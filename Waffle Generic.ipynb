{
 "cells": [
  {
   "cell_type": "markdown",
   "id": "960a8c47",
   "metadata": {},
   "source": [
    "# Creating a Waffle Chart with Python\n",
    "## Use Case\n",
    "I needed a way to show how much of each category made up of a whole in terms of costs in a Power BI report.\n",
    "\n",
    "### Limitations:\n",
    "1. The number of categories was excessive so the built in charts would have made it hard to read.\n",
    "2. Power BI Service only supports a handful of python packages. So using a niche package to generate it wouldnt work when the report is published to the Power BI service for the end user."
   ]
  },
  {
   "cell_type": "code",
   "execution_count": 1,
   "id": "6cd77a12",
   "metadata": {},
   "outputs": [
    {
     "data": {
      "text/plain": [
       "'%.2f'"
      ]
     },
     "execution_count": 1,
     "metadata": {},
     "output_type": "execute_result"
    }
   ],
   "source": [
    "%precision %.2f"
   ]
  },
  {
   "cell_type": "code",
   "execution_count": 2,
   "id": "49662e79",
   "metadata": {},
   "outputs": [],
   "source": [
    "import pandas as pd\n",
    "import numpy as np\n",
    "import matplotlib.pyplot as plt\n",
    "import matplotlib as mpl\n",
    "import matplotlib.patches as mpatches\n",
    "import seaborn as sns\n",
    "import re"
   ]
  },
  {
   "cell_type": "markdown",
   "id": "7e2e693a",
   "metadata": {},
   "source": [
    "## Sample Data"
   ]
  },
  {
   "cell_type": "markdown",
   "id": "2b79bd19",
   "metadata": {},
   "source": [
    "(Skip to **_Visualizing the Whole_** if you already have data)"
   ]
  },
  {
   "cell_type": "markdown",
   "id": "d1cdb122",
   "metadata": {},
   "source": [
    "Create a set of sample categories, 20 in this case."
   ]
  },
  {
   "cell_type": "code",
   "execution_count": 3,
   "id": "382f694f",
   "metadata": {},
   "outputs": [
    {
     "data": {
      "text/plain": [
       "['Category 1',\n",
       " 'Category 2',\n",
       " 'Category 3',\n",
       " 'Category 4',\n",
       " 'Category 5',\n",
       " 'Category 6',\n",
       " 'Category 7',\n",
       " 'Category 8',\n",
       " 'Category 9',\n",
       " 'Category 10',\n",
       " 'Category 11',\n",
       " 'Category 12',\n",
       " 'Category 13',\n",
       " 'Category 14',\n",
       " 'Category 15',\n",
       " 'Category 16',\n",
       " 'Category 17',\n",
       " 'Category 18',\n",
       " 'Category 19',\n",
       " 'Category 20']"
      ]
     },
     "execution_count": 3,
     "metadata": {},
     "output_type": "execute_result"
    }
   ],
   "source": [
    "categories = [f'Category {x+1}' for x in range(20)]\n",
    "categories"
   ]
  },
  {
   "cell_type": "markdown",
   "id": "45d684f4",
   "metadata": {},
   "source": [
    "Create a set of 20 random integer values that follow a pareto distribution.\n",
    "\n",
    "A pareto distribution gets us a dataset that has a few larger numbers and the rest trail off which would be analgous to a business case of \"Costs by Category\".\n",
    "\n",
    "Example pareto distributions (Wikipedia):\n",
    "![](https://external-content.duckduckgo.com/iu/?u=https%3A%2F%2Fupload.wikimedia.org%2Fwikipedia%2Fcommons%2Fthumb%2F1%2F11%2FProbability_density_function_of_Pareto_distribution.svg%2F1920px-Probability_density_function_of_Pareto_distribution.svg.png&f=1&nofb=1)"
   ]
  },
  {
   "cell_type": "code",
   "execution_count": 4,
   "id": "c75d7c5d",
   "metadata": {},
   "outputs": [
    {
     "data": {
      "text/plain": [
       "array([9.9200e+02, 4.0000e+00, 2.2820e+03, 2.9960e+03, 6.3600e+02,\n",
       "       2.4913e+04, 1.0000e+02, 8.5000e+02, 1.8025e+04, 5.8460e+03,\n",
       "       1.8300e+02, 5.2200e+02, 4.2600e+02, 8.0500e+02, 4.4410e+03,\n",
       "       3.5930e+03, 2.8800e+02, 1.7040e+03, 5.9100e+02, 5.9910e+03])"
      ]
     },
     "execution_count": 4,
     "metadata": {},
     "output_type": "execute_result"
    }
   ],
   "source": [
    "costs = np.rint(np.random.pareto(1,20) * 1000)\n",
    "costs"
   ]
  },
  {
   "cell_type": "markdown",
   "id": "fffaae79",
   "metadata": {},
   "source": [
    "### What does the Sample Data look like?"
   ]
  },
  {
   "cell_type": "code",
   "execution_count": 5,
   "id": "2ed4d762",
   "metadata": {},
   "outputs": [
    {
     "data": {
      "image/png": "[encoded data removed]",
      "text/plain": [
       "<Figure size 1000x400 with 1 Axes>"
      ]
     },
     "metadata": {},
     "output_type": "display_data"
    }
   ],
   "source": [
    "data = pd.DataFrame({'Raw Category': categories, 'Cost':costs}).sort_values(by='Cost', ascending=False)\n",
    "\n",
    "f, ax = plt.subplots(figsize=(10,4))\n",
    "ax = sns.barplot(x='Raw Category', y='Cost', data=data, color='#CCC')\n",
    "ax.set_xticklabels(ax.get_xticklabels(), rotation=90, ha='center')\n",
    "sns.despine()\n",
    "plt.show()"
   ]
  },
  {
   "cell_type": "markdown",
   "id": "e1992847",
   "metadata": {},
   "source": [
    "---\n",
    "## Visualizing the Whole\n",
    "### *Waffle > Pie*\n",
    "\n",
    "We need to keep in mind a few important points when it comes to building out the visualization.\n",
    "- The brain tends to struggle when you go beyond half a dozen categories. \n",
    "- Color needs to be reserved for impact, it should have meaning and draw attention. (Note, this isnt always easy to do.)\n",
    "- Pie charts add to the mental load of discerning arc's and areas and when values are close its near impossible to tell which value is larger.\n",
    "\n",
    "So what are things we need to do to address the above?\n",
    "1. Leave the top 5 categories alone so they are broken out, but bucket the rest into an **_Other_** category.\n",
    "2. Avoid the default colors. Use shades of a neutral color or a set of muted colors.\n",
    "3. Ditch the pie chart and build a **_Waffle_** Chart"
   ]
  },
  {
   "cell_type": "markdown",
   "id": "595fcb6b",
   "metadata": {},
   "source": [
    "### Defining a few parameters"
   ]
  },
  {
   "cell_type": "code",
   "execution_count": 6,
   "id": "871ab2ab",
   "metadata": {},
   "outputs": [],
   "source": [
    "W = 20  # Width\n",
    "H = 5  # Height\n",
    "TOPN = 5  # How many categories to keep broken out\n",
    "\n",
    "nwaffle = W * H  # Waffle Sections"
   ]
  },
  {
   "cell_type": "markdown",
   "id": "a1a8e8bf",
   "metadata": {},
   "source": [
    "### Creating the 'Other' bucket"
   ]
  },
  {
   "cell_type": "code",
   "execution_count": 7,
   "id": "8cedda05",
   "metadata": {},
   "outputs": [
    {
     "data": {
      "text/html": [
       "<div>\n",
       "<style scoped>\n",
       "    .dataframe tbody tr th:only-of-type {\n",
       "        vertical-align: middle;\n",
       "    }\n",
       "\n",
       "    .dataframe tbody tr th {\n",
       "        vertical-align: top;\n",
       "    }\n",
       "\n",
       "    .dataframe thead th {\n",
       "        text-align: right;\n",
       "    }\n",
       "</style>\n",
       "<table border=\"1\" class=\"dataframe\">\n",
       "  <thead>\n",
       "    <tr style=\"text-align: right;\">\n",
       "      <th></th>\n",
       "      <th>Raw Category</th>\n",
       "      <th>Cost</th>\n",
       "    </tr>\n",
       "  </thead>\n",
       "  <tbody>\n",
       "    <tr>\n",
       "      <th>5</th>\n",
       "      <td>Category 6</td>\n",
       "      <td>24913.0</td>\n",
       "    </tr>\n",
       "    <tr>\n",
       "      <th>8</th>\n",
       "      <td>Category 9</td>\n",
       "      <td>18025.0</td>\n",
       "    </tr>\n",
       "    <tr>\n",
       "      <th>19</th>\n",
       "      <td>Category 20</td>\n",
       "      <td>5991.0</td>\n",
       "    </tr>\n",
       "    <tr>\n",
       "      <th>9</th>\n",
       "      <td>Category 10</td>\n",
       "      <td>5846.0</td>\n",
       "    </tr>\n",
       "    <tr>\n",
       "      <th>14</th>\n",
       "      <td>Category 15</td>\n",
       "      <td>4441.0</td>\n",
       "    </tr>\n",
       "  </tbody>\n",
       "</table>\n",
       "</div>"
      ],
      "text/plain": [
       "   Raw Category     Cost\n",
       "5    Category 6  24913.0\n",
       "8    Category 9  18025.0\n",
       "19  Category 20   5991.0\n",
       "9   Category 10   5846.0\n",
       "14  Category 15   4441.0"
      ]
     },
     "execution_count": 7,
     "metadata": {},
     "output_type": "execute_result"
    }
   ],
   "source": [
    "data.head()"
   ]
  },
  {
   "cell_type": "code",
   "execution_count": 8,
   "id": "79c714f0",
   "metadata": {},
   "outputs": [
    {
     "data": {
      "text/html": [
       "<div>\n",
       "<style scoped>\n",
       "    .dataframe tbody tr th:only-of-type {\n",
       "        vertical-align: middle;\n",
       "    }\n",
       "\n",
       "    .dataframe tbody tr th {\n",
       "        vertical-align: top;\n",
       "    }\n",
       "\n",
       "    .dataframe thead th {\n",
       "        text-align: right;\n",
       "    }\n",
       "</style>\n",
       "<table border=\"1\" class=\"dataframe\">\n",
       "  <thead>\n",
       "    <tr style=\"text-align: right;\">\n",
       "      <th></th>\n",
       "      <th>Raw Category</th>\n",
       "      <th>Cost</th>\n",
       "      <th>pct_raw</th>\n",
       "      <th>rank_raw</th>\n",
       "      <th>Category</th>\n",
       "      <th>Sort ID</th>\n",
       "    </tr>\n",
       "  </thead>\n",
       "  <tbody>\n",
       "    <tr>\n",
       "      <th>5</th>\n",
       "      <td>Category 6</td>\n",
       "      <td>24913.0</td>\n",
       "      <td>0.331343</td>\n",
       "      <td>1.0</td>\n",
       "      <td>Category 6</td>\n",
       "      <td>1.0</td>\n",
       "    </tr>\n",
       "    <tr>\n",
       "      <th>8</th>\n",
       "      <td>Category 9</td>\n",
       "      <td>18025.0</td>\n",
       "      <td>0.239732</td>\n",
       "      <td>2.0</td>\n",
       "      <td>Category 9</td>\n",
       "      <td>2.0</td>\n",
       "    </tr>\n",
       "    <tr>\n",
       "      <th>19</th>\n",
       "      <td>Category 20</td>\n",
       "      <td>5991.0</td>\n",
       "      <td>0.079680</td>\n",
       "      <td>3.0</td>\n",
       "      <td>Category 20</td>\n",
       "      <td>3.0</td>\n",
       "    </tr>\n",
       "    <tr>\n",
       "      <th>9</th>\n",
       "      <td>Category 10</td>\n",
       "      <td>5846.0</td>\n",
       "      <td>0.077752</td>\n",
       "      <td>4.0</td>\n",
       "      <td>Category 10</td>\n",
       "      <td>4.0</td>\n",
       "    </tr>\n",
       "    <tr>\n",
       "      <th>14</th>\n",
       "      <td>Category 15</td>\n",
       "      <td>4441.0</td>\n",
       "      <td>0.059065</td>\n",
       "      <td>5.0</td>\n",
       "      <td>Category 15</td>\n",
       "      <td>5.0</td>\n",
       "    </tr>\n",
       "    <tr>\n",
       "      <th>15</th>\n",
       "      <td>Category 16</td>\n",
       "      <td>3593.0</td>\n",
       "      <td>0.047787</td>\n",
       "      <td>6.0</td>\n",
       "      <td>Other</td>\n",
       "      <td>6.0</td>\n",
       "    </tr>\n",
       "    <tr>\n",
       "      <th>3</th>\n",
       "      <td>Category 4</td>\n",
       "      <td>2996.0</td>\n",
       "      <td>0.039847</td>\n",
       "      <td>7.0</td>\n",
       "      <td>Other</td>\n",
       "      <td>6.0</td>\n",
       "    </tr>\n",
       "    <tr>\n",
       "      <th>2</th>\n",
       "      <td>Category 3</td>\n",
       "      <td>2282.0</td>\n",
       "      <td>0.030351</td>\n",
       "      <td>8.0</td>\n",
       "      <td>Other</td>\n",
       "      <td>6.0</td>\n",
       "    </tr>\n",
       "    <tr>\n",
       "      <th>17</th>\n",
       "      <td>Category 18</td>\n",
       "      <td>1704.0</td>\n",
       "      <td>0.022663</td>\n",
       "      <td>9.0</td>\n",
       "      <td>Other</td>\n",
       "      <td>6.0</td>\n",
       "    </tr>\n",
       "    <tr>\n",
       "      <th>0</th>\n",
       "      <td>Category 1</td>\n",
       "      <td>992.0</td>\n",
       "      <td>0.013194</td>\n",
       "      <td>10.0</td>\n",
       "      <td>Other</td>\n",
       "      <td>6.0</td>\n",
       "    </tr>\n",
       "    <tr>\n",
       "      <th>7</th>\n",
       "      <td>Category 8</td>\n",
       "      <td>850.0</td>\n",
       "      <td>0.011305</td>\n",
       "      <td>11.0</td>\n",
       "      <td>Other</td>\n",
       "      <td>6.0</td>\n",
       "    </tr>\n",
       "    <tr>\n",
       "      <th>13</th>\n",
       "      <td>Category 14</td>\n",
       "      <td>805.0</td>\n",
       "      <td>0.010706</td>\n",
       "      <td>12.0</td>\n",
       "      <td>Other</td>\n",
       "      <td>6.0</td>\n",
       "    </tr>\n",
       "    <tr>\n",
       "      <th>4</th>\n",
       "      <td>Category 5</td>\n",
       "      <td>636.0</td>\n",
       "      <td>0.008459</td>\n",
       "      <td>13.0</td>\n",
       "      <td>Other</td>\n",
       "      <td>6.0</td>\n",
       "    </tr>\n",
       "    <tr>\n",
       "      <th>18</th>\n",
       "      <td>Category 19</td>\n",
       "      <td>591.0</td>\n",
       "      <td>0.007860</td>\n",
       "      <td>14.0</td>\n",
       "      <td>Other</td>\n",
       "      <td>6.0</td>\n",
       "    </tr>\n",
       "    <tr>\n",
       "      <th>11</th>\n",
       "      <td>Category 12</td>\n",
       "      <td>522.0</td>\n",
       "      <td>0.006943</td>\n",
       "      <td>15.0</td>\n",
       "      <td>Other</td>\n",
       "      <td>6.0</td>\n",
       "    </tr>\n",
       "    <tr>\n",
       "      <th>12</th>\n",
       "      <td>Category 13</td>\n",
       "      <td>426.0</td>\n",
       "      <td>0.005666</td>\n",
       "      <td>16.0</td>\n",
       "      <td>Other</td>\n",
       "      <td>6.0</td>\n",
       "    </tr>\n",
       "    <tr>\n",
       "      <th>16</th>\n",
       "      <td>Category 17</td>\n",
       "      <td>288.0</td>\n",
       "      <td>0.003830</td>\n",
       "      <td>17.0</td>\n",
       "      <td>Other</td>\n",
       "      <td>6.0</td>\n",
       "    </tr>\n",
       "    <tr>\n",
       "      <th>10</th>\n",
       "      <td>Category 11</td>\n",
       "      <td>183.0</td>\n",
       "      <td>0.002434</td>\n",
       "      <td>18.0</td>\n",
       "      <td>Other</td>\n",
       "      <td>6.0</td>\n",
       "    </tr>\n",
       "    <tr>\n",
       "      <th>6</th>\n",
       "      <td>Category 7</td>\n",
       "      <td>100.0</td>\n",
       "      <td>0.001330</td>\n",
       "      <td>19.0</td>\n",
       "      <td>Other</td>\n",
       "      <td>6.0</td>\n",
       "    </tr>\n",
       "    <tr>\n",
       "      <th>1</th>\n",
       "      <td>Category 2</td>\n",
       "      <td>4.0</td>\n",
       "      <td>0.000053</td>\n",
       "      <td>20.0</td>\n",
       "      <td>Other</td>\n",
       "      <td>6.0</td>\n",
       "    </tr>\n",
       "  </tbody>\n",
       "</table>\n",
       "</div>"
      ],
      "text/plain": [
       "   Raw Category     Cost   pct_raw  rank_raw     Category  Sort ID\n",
       "5    Category 6  24913.0  0.331343       1.0   Category 6      1.0\n",
       "8    Category 9  18025.0  0.239732       2.0   Category 9      2.0\n",
       "19  Category 20   5991.0  0.079680       3.0  Category 20      3.0\n",
       "9   Category 10   5846.0  0.077752       4.0  Category 10      4.0\n",
       "14  Category 15   4441.0  0.059065       5.0  Category 15      5.0\n",
       "15  Category 16   3593.0  0.047787       6.0        Other      6.0\n",
       "3    Category 4   2996.0  0.039847       7.0        Other      6.0\n",
       "2    Category 3   2282.0  0.030351       8.0        Other      6.0\n",
       "17  Category 18   1704.0  0.022663       9.0        Other      6.0\n",
       "0    Category 1    992.0  0.013194      10.0        Other      6.0\n",
       "7    Category 8    850.0  0.011305      11.0        Other      6.0\n",
       "13  Category 14    805.0  0.010706      12.0        Other      6.0\n",
       "4    Category 5    636.0  0.008459      13.0        Other      6.0\n",
       "18  Category 19    591.0  0.007860      14.0        Other      6.0\n",
       "11  Category 12    522.0  0.006943      15.0        Other      6.0\n",
       "12  Category 13    426.0  0.005666      16.0        Other      6.0\n",
       "16  Category 17    288.0  0.003830      17.0        Other      6.0\n",
       "10  Category 11    183.0  0.002434      18.0        Other      6.0\n",
       "6    Category 7    100.0  0.001330      19.0        Other      6.0\n",
       "1    Category 2      4.0  0.000053      20.0        Other      6.0"
      ]
     },
     "execution_count": 8,
     "metadata": {},
     "output_type": "execute_result"
    }
   ],
   "source": [
    "total = data['Cost'].sum()\n",
    "data['pct_raw'] = data['Cost'].apply(lambda x: x / total)\n",
    "data['rank_raw'] = data['Cost'].rank(ascending=False)\n",
    "data['Category'] = data.apply(lambda x: 'Other' if x['rank_raw'] > TOPN else x['Raw Category'], axis=1)\n",
    "data['Sort ID'] = data['rank_raw'].apply(lambda x: TOPN + 1 if x > TOPN else x)\n",
    "data"
   ]
  },
  {
   "cell_type": "markdown",
   "id": "252ead5d",
   "metadata": {},
   "source": [
    "### Data --> Graph Data"
   ]
  },
  {
   "cell_type": "markdown",
   "id": "f2d25c3a",
   "metadata": {},
   "source": [
    "To get the dataset ready to graph we need to do a few small steps:\n",
    "1. Aggregate the data. We need to sum the cost and 'pct_raw' for each of the new categories, and get the **_min_** Sort ID.\n",
    "2. Get an integer number of how many tiles each category represents.\n",
    "3. Sort the values so they graph in a meaningful way."
   ]
  },
  {
   "cell_type": "code",
   "execution_count": 9,
   "id": "5bf54529",
   "metadata": {},
   "outputs": [
    {
     "data": {
      "text/html": [
       "<div>\n",
       "<style scoped>\n",
       "    .dataframe tbody tr th:only-of-type {\n",
       "        vertical-align: middle;\n",
       "    }\n",
       "\n",
       "    .dataframe tbody tr th {\n",
       "        vertical-align: top;\n",
       "    }\n",
       "\n",
       "    .dataframe thead th {\n",
       "        text-align: right;\n",
       "    }\n",
       "</style>\n",
       "<table border=\"1\" class=\"dataframe\">\n",
       "  <thead>\n",
       "    <tr style=\"text-align: right;\">\n",
       "      <th></th>\n",
       "      <th>Cost</th>\n",
       "      <th>pct_raw</th>\n",
       "      <th>Sort ID</th>\n",
       "      <th>tiles</th>\n",
       "    </tr>\n",
       "    <tr>\n",
       "      <th>Category</th>\n",
       "      <th></th>\n",
       "      <th></th>\n",
       "      <th></th>\n",
       "      <th></th>\n",
       "    </tr>\n",
       "  </thead>\n",
       "  <tbody>\n",
       "    <tr>\n",
       "      <th>Category 6</th>\n",
       "      <td>24913.0</td>\n",
       "      <td>0.331343</td>\n",
       "      <td>1.0</td>\n",
       "      <td>33.0</td>\n",
       "    </tr>\n",
       "    <tr>\n",
       "      <th>Category 9</th>\n",
       "      <td>18025.0</td>\n",
       "      <td>0.239732</td>\n",
       "      <td>2.0</td>\n",
       "      <td>24.0</td>\n",
       "    </tr>\n",
       "    <tr>\n",
       "      <th>Category 20</th>\n",
       "      <td>5991.0</td>\n",
       "      <td>0.079680</td>\n",
       "      <td>3.0</td>\n",
       "      <td>8.0</td>\n",
       "    </tr>\n",
       "    <tr>\n",
       "      <th>Category 10</th>\n",
       "      <td>5846.0</td>\n",
       "      <td>0.077752</td>\n",
       "      <td>4.0</td>\n",
       "      <td>8.0</td>\n",
       "    </tr>\n",
       "    <tr>\n",
       "      <th>Category 15</th>\n",
       "      <td>4441.0</td>\n",
       "      <td>0.059065</td>\n",
       "      <td>5.0</td>\n",
       "      <td>6.0</td>\n",
       "    </tr>\n",
       "    <tr>\n",
       "      <th>Other</th>\n",
       "      <td>15972.0</td>\n",
       "      <td>0.212428</td>\n",
       "      <td>6.0</td>\n",
       "      <td>21.0</td>\n",
       "    </tr>\n",
       "  </tbody>\n",
       "</table>\n",
       "</div>"
      ],
      "text/plain": [
       "                Cost   pct_raw  Sort ID  tiles\n",
       "Category                                      \n",
       "Category 6   24913.0  0.331343      1.0   33.0\n",
       "Category 9   18025.0  0.239732      2.0   24.0\n",
       "Category 20   5991.0  0.079680      3.0    8.0\n",
       "Category 10   5846.0  0.077752      4.0    8.0\n",
       "Category 15   4441.0  0.059065      5.0    6.0\n",
       "Other        15972.0  0.212428      6.0   21.0"
      ]
     },
     "execution_count": 9,
     "metadata": {},
     "output_type": "execute_result"
    }
   ],
   "source": [
    "dfg = data.groupby(by=['Category']).agg({'Cost':'sum', 'pct_raw':'sum', 'Sort ID':'min'})\n",
    "dfg['tiles'] = round(dfg.pct_raw * nwaffle)\n",
    "dfg.sort_values('Sort ID', inplace=True)\n",
    "dfg"
   ]
  },
  {
   "cell_type": "code",
   "execution_count": 10,
   "id": "4476f8ef",
   "metadata": {},
   "outputs": [
    {
     "data": {
      "text/plain": [
       "100.0"
      ]
     },
     "execution_count": 10,
     "metadata": {},
     "output_type": "execute_result"
    }
   ],
   "source": [
    "dfg.tiles.sum()"
   ]
  },
  {
   "cell_type": "markdown",
   "id": "82587719",
   "metadata": {},
   "source": [
    "Sometimes the tiles dont total what you set the graph to (that **nwaffle** number) due to rounding. In this case, one solution is to increment the **Other** bucket by 1 tile."
   ]
  },
  {
   "cell_type": "code",
   "execution_count": 11,
   "id": "e43d6dac",
   "metadata": {},
   "outputs": [
    {
     "data": {
      "text/html": [
       "<div>\n",
       "<style scoped>\n",
       "    .dataframe tbody tr th:only-of-type {\n",
       "        vertical-align: middle;\n",
       "    }\n",
       "\n",
       "    .dataframe tbody tr th {\n",
       "        vertical-align: top;\n",
       "    }\n",
       "\n",
       "    .dataframe thead th {\n",
       "        text-align: right;\n",
       "    }\n",
       "</style>\n",
       "<table border=\"1\" class=\"dataframe\">\n",
       "  <thead>\n",
       "    <tr style=\"text-align: right;\">\n",
       "      <th></th>\n",
       "      <th>Cost</th>\n",
       "      <th>pct_raw</th>\n",
       "      <th>Sort ID</th>\n",
       "      <th>tiles</th>\n",
       "    </tr>\n",
       "    <tr>\n",
       "      <th>Category</th>\n",
       "      <th></th>\n",
       "      <th></th>\n",
       "      <th></th>\n",
       "      <th></th>\n",
       "    </tr>\n",
       "  </thead>\n",
       "  <tbody>\n",
       "    <tr>\n",
       "      <th>Category 6</th>\n",
       "      <td>24913.0</td>\n",
       "      <td>0.331343</td>\n",
       "      <td>1.0</td>\n",
       "      <td>33.0</td>\n",
       "    </tr>\n",
       "    <tr>\n",
       "      <th>Category 9</th>\n",
       "      <td>18025.0</td>\n",
       "      <td>0.239732</td>\n",
       "      <td>2.0</td>\n",
       "      <td>24.0</td>\n",
       "    </tr>\n",
       "    <tr>\n",
       "      <th>Category 20</th>\n",
       "      <td>5991.0</td>\n",
       "      <td>0.079680</td>\n",
       "      <td>3.0</td>\n",
       "      <td>8.0</td>\n",
       "    </tr>\n",
       "    <tr>\n",
       "      <th>Category 10</th>\n",
       "      <td>5846.0</td>\n",
       "      <td>0.077752</td>\n",
       "      <td>4.0</td>\n",
       "      <td>8.0</td>\n",
       "    </tr>\n",
       "    <tr>\n",
       "      <th>Category 15</th>\n",
       "      <td>4441.0</td>\n",
       "      <td>0.059065</td>\n",
       "      <td>5.0</td>\n",
       "      <td>6.0</td>\n",
       "    </tr>\n",
       "    <tr>\n",
       "      <th>Other</th>\n",
       "      <td>15972.0</td>\n",
       "      <td>0.212428</td>\n",
       "      <td>6.0</td>\n",
       "      <td>21.0</td>\n",
       "    </tr>\n",
       "  </tbody>\n",
       "</table>\n",
       "</div>"
      ],
      "text/plain": [
       "                Cost   pct_raw  Sort ID  tiles\n",
       "Category                                      \n",
       "Category 6   24913.0  0.331343      1.0   33.0\n",
       "Category 9   18025.0  0.239732      2.0   24.0\n",
       "Category 20   5991.0  0.079680      3.0    8.0\n",
       "Category 10   5846.0  0.077752      4.0    8.0\n",
       "Category 15   4441.0  0.059065      5.0    6.0\n",
       "Other        15972.0  0.212428      6.0   21.0"
      ]
     },
     "execution_count": 11,
     "metadata": {},
     "output_type": "execute_result"
    }
   ],
   "source": [
    "if sum(dfg.tiles) == (nwaffle - 1):\n",
    "    dfg.loc['Other', 'tiles'] +=1\n",
    "dfg"
   ]
  },
  {
   "cell_type": "markdown",
   "id": "c90b7151",
   "metadata": {},
   "source": [
    "Now we have the dataset to build the graph from."
   ]
  },
  {
   "cell_type": "markdown",
   "id": "3834de71",
   "metadata": {},
   "source": [
    "---\n",
    "## Building the Waffle"
   ]
  },
  {
   "cell_type": "code",
   "execution_count": 12,
   "id": "53678bf1",
   "metadata": {},
   "outputs": [],
   "source": [
    "# Creating basic arrays of each column we need\n",
    "categories = dfg.index.values\n",
    "tiles = dfg.tiles.values\n",
    "costs = dfg.Cost.values\n",
    "\n",
    "waffle = np.zeros((H, W))  # Builds an array of zeros as a basis of the chart in the dimensions we defined earlier\n",
    "\n",
    "indx_cat = 0\n",
    "indx_tile = 0\n",
    "\n",
    "# Walk the Waffle\n",
    "for col in range(W):\n",
    "    for row in range(H):\n",
    "        indx_tile += 1\n",
    "        if indx_tile > sum(tiles[0:indx_cat]):\n",
    "            indx_cat += 1\n",
    "        waffle[row, col] = indx_cat"
   ]
  },
  {
   "cell_type": "code",
   "execution_count": 28,
   "id": "9b23ca7b",
   "metadata": {},
   "outputs": [],
   "source": [
    "# Somewhat muted colors that are easy to distinguish between\n",
    "color_codes = [\"#0083BF\",\"#82894d\",\"#4d4e21\",\"#b77b1d\",\"#a14119\",\"#CCC\"]"
   ]
  },
  {
   "cell_type": "code",
   "execution_count": 26,
   "id": "7a2b5696",
   "metadata": {},
   "outputs": [],
   "source": [
    "# Grayscale colors\n",
    "#color_codes = ['#bababa', '#d0d0d0', '#5e5e5e', '#808080', '#9e9e9e', '#323232']"
   ]
  },
  {
   "cell_type": "code",
   "execution_count": 21,
   "id": "4e56cba4",
   "metadata": {},
   "outputs": [],
   "source": [
    "# Grayscale with an attention getter\n",
    "#  https://projects.susielu.com/viz-palette\n",
    "#color_codes = ['#bababa', '#d0d0d0', '#5e5e5e', '#808080', '#9e9e9e', '#b77b1d']"
   ]
  },
  {
   "cell_type": "code",
   "execution_count": 15,
   "id": "3ca7cb34",
   "metadata": {},
   "outputs": [],
   "source": [
    "params = {'figure.dpi': 300,         \n",
    "        'legend.fontsize': 'x-large'\n",
    "         }\n",
    "mpl.rcParams.update(params)"
   ]
  },
  {
   "cell_type": "code",
   "execution_count": 30,
   "id": "68ed863c",
   "metadata": {},
   "outputs": [
    {
     "data": {
      "image/png": "[encoded data removed]",
      "text/plain": [
       "<Figure size 5400x1800 with 1 Axes>"
      ]
     },
     "metadata": {},
     "output_type": "display_data"
    }
   ],
   "source": [
    "colormap = mpl.colors.ListedColormap(color_codes)\n",
    "\n",
    "def format_str(s, max_len:int = 8):\n",
    "    idx_spaces = [m.start() for m in re.finditer(\" \", s)]\n",
    "    lim = max_len\n",
    "    for idx in idx_spaces:\n",
    "        if idx < lim:\n",
    "            pass\n",
    "        else:\n",
    "            if idx == lim:\n",
    "                s = s[:lim] + '\\n' + s[lim+1:]\n",
    "            else:\n",
    "                s = s[:idx] + '\\n' + s[idx+1:]\n",
    "    return s\n",
    "\n",
    "f, ax = plt.subplots(figsize=(18,6))\n",
    "ax.imshow(waffle, cmap=colormap)\n",
    "\n",
    "ax.set_xticks(np.arange(-0.5, W, 1), minor=True)\n",
    "ax.set_yticks(np.arange(-0.5, H, 1), minor=True)\n",
    "\n",
    "ax.grid(which='minor', color='w', ls='-', lw=3)\n",
    "\n",
    "plt.xticks([])\n",
    "plt.yticks([])\n",
    "\n",
    "legend_handles = []\n",
    "\n",
    "for i, cat in enumerate(categories):\n",
    "    label_str = f'{format_str(cat)}\\n(${costs[i]/1000:0,.1f}K)'.replace(\" \",\"\\n\")\n",
    "    color_val = color_codes[i]\n",
    "    #legend_handles.append(mpatches.Patch(color=color_val, label=label_str))\n",
    "    legend_handles.append(mpl.lines.Line2D([0],[0], color='w', label=label_str, marker='o', markerfacecolor=color_val, markersize=42))\n",
    "\n",
    "leg = plt.legend(handles=legend_handles, loc='lower center', ncol=len(categories), bbox_to_anchor=(0,-0.27,1,1), frameon=False)\n",
    "\n",
    "ax.tick_params(axis='x', which='both', colors='w')\n",
    "ax.tick_params(axis='y', which='both', colors='w')\n",
    "sns.despine(left=True, bottom=True)\n",
    "plt.tight_layout()\n",
    "\n",
    "plt.show()"
   ]
  }
 ],
 "metadata": {
  "kernelspec": {
   "display_name": "Python [conda env:powerbi]",
   "language": "python",
   "name": "conda-env-powerbi-py"
  },
  "language_info": {
   "codemirror_mode": {
    "name": "ipython",
    "version": 3
   },
   "file_extension": ".py",
   "mimetype": "text/x-python",
   "name": "python",
   "nbconvert_exporter": "python",
   "pygments_lexer": "ipython3",
   "version": "3.7.7"
  }
 },
 "nbformat": 4,
 "nbformat_minor": 5
}
